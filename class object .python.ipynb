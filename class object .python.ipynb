{
 "cells": [
  {
   "cell_type": "code",
   "execution_count": 5,
   "id": "8e214f4e-f5ae-43e3-8c04-0290fde5bee2",
   "metadata": {},
   "outputs": [
    {
     "name": "stdout",
     "output_type": "stream",
     "text": [
      "welcome to oops concept\n"
     ]
    }
   ],
   "source": [
    "#predict the output\n",
    "class python:\n",
    "   def fun(self):\n",
    "         print(\"welcome to oops concept\")\n",
    "pyt=python()\n",
    "pyt.fun()"
   ]
  },
  {
   "cell_type": "code",
   "execution_count": 19,
   "id": "53064604-ff36-43c3-b034-27af2667ee2f",
   "metadata": {},
   "outputs": [
    {
     "name": "stdout",
     "output_type": "stream",
     "text": [
      "name: AUDI id: 20000000\n"
     ]
    }
   ],
   "source": [
    "class car:\n",
    "    'common_car'\n",
    "    car=0\n",
    "    def __init__(self,name,id):\n",
    "       self.name=name\n",
    "       self.id=id\n",
    "       car.car+=1\n",
    "    def printcardata(self):\n",
    "        print(\"name:\",self.name,\"id:\",self.id)\n",
    "c=car(\"AUDI\",20000000)\n",
    "c.printcardata()"
   ]
  },
  {
   "cell_type": "code",
   "execution_count": 14,
   "id": "5b58482a-bf41-432c-b8ee-51a2ea75ec71",
   "metadata": {},
   "outputs": [],
   "source": [
    "class Employee:\n",
    "  def set_data(self,n,a,s):\n",
    "      self.name=n\n",
    "      self.age=a\n",
    "      self.salary=s\n",
    "  def display_data(self):\n",
    "      print(self.name,self.age,self.salary)\n",
    "      "
   ]
  },
  {
   "cell_type": "code",
   "execution_count": 18,
   "id": "565bcf6c-89de-4011-9fd2-a4a0acbe05c5",
   "metadata": {},
   "outputs": [
    {
     "name": "stdout",
     "output_type": "stream",
     "text": [
      "xxxxx 26 30000\n"
     ]
    }
   ],
   "source": [
    "e1=Employee()\n",
    "e1.set_data(\"xxxxx\",26,30000)\n",
    "e1.display_data()"
   ]
  },
  {
   "cell_type": "code",
   "execution_count": 40,
   "id": "77ebf97e-0e47-4f92-9e4a-d6b07c5441fa",
   "metadata": {},
   "outputs": [
    {
     "name": "stdout",
     "output_type": "stream",
     "text": [
      "name: parrot color: green\n"
     ]
    }
   ],
   "source": [
    "class Bird:\n",
    "    'common_Bird'\n",
    "    Bird=0\n",
    "    def __init__(self,name,id):\n",
    "       self.name=name\n",
    "       self.id=id\n",
    "       Bird.Bird+=1\n",
    "    def printBirddata(self):\n",
    "        print(\"name:\",self.name,\"color:\",self.id)\n",
    "c=Bird(\"parrot\",\"green\")\n",
    "c.printBirddata()\n"
   ]
  },
  {
   "cell_type": "code",
   "execution_count": null,
   "id": "b3d326bc-a9db-43bb-b802-ed768e25c8af",
   "metadata": {},
   "outputs": [],
   "source": [
    "calss Number:\n",
    "def __init__(self,n):\n",
    "    self.number=n\n",
    "    def check_num(self):\n",
    "        if self.number>0:\n",
    "            print(\"positive\")\n",
    "            "
   ]
  },
  {
   "cell_type": "code",
   "execution_count": 50,
   "id": "099e616a-9d54-49b7-bda5-5a6e622a0950",
   "metadata": {},
   "outputs": [
    {
     "name": "stdout",
     "output_type": "stream",
     "text": [
      "hello\n",
      "10\n"
     ]
    }
   ],
   "source": [
    "class Test:\n",
    "    x=10\n",
    "    def __init__(self):\n",
    "        print(\"hello\")\n",
    "t=Test()\n",
    "print(Test.x)"
   ]
  },
  {
   "cell_type": "code",
   "execution_count": 52,
   "id": "22c17448-7173-4c2e-8065-fb4bc5535346",
   "metadata": {},
   "outputs": [
    {
     "name": "stdout",
     "output_type": "stream",
     "text": [
      "total cars: 3\n",
      "name: AUDI id: 20000000\n",
      "name: BENZ id: 30000000\n",
      "name: BMW id: 10000000\n"
     ]
    }
   ],
   "source": [
    "class car:\n",
    "    'common_car'\n",
    "    car=0\n",
    "    def __init__(self,name,id):\n",
    "       self.name=name\n",
    "       self.id=id\n",
    "       car.car+=1\n",
    "    def printcardata(self):\n",
    "        print(\"name:\",self.name,\"id:\",self.id)\n",
    "c1=car(\"AUDI\",20000000)\n",
    "c2=car(\"BENZ\",30000000)\n",
    "c3=car(\"BMW\",10000000)\n",
    "print(\"total cars:\",car.car)\n",
    "c1.printcardata()\n",
    "c2.printcardata()\n",
    "c3.printcardata()\n"
   ]
  },
  {
   "cell_type": "code",
   "execution_count": 54,
   "id": "5508ccf9-3b36-49d3-80c0-b7cecd05fe50",
   "metadata": {},
   "outputs": [
    {
     "name": "stdout",
     "output_type": "stream",
     "text": [
      "car\n"
     ]
    }
   ],
   "source": [
    "class test:\n",
    "    def __init__(self):\n",
    "        self.variable='car'\n",
    "        self.change(self.variable)\n",
    "    def change(self,var):\n",
    "        var='bike'\n",
    "obj=test()\n",
    "print(obj.variable)"
   ]
  },
  {
   "cell_type": "code",
   "execution_count": 3,
   "id": "d8c9553d-4d0f-44c5-a4b5-172d84ee85e3",
   "metadata": {},
   "outputs": [
    {
     "name": "stdout",
     "output_type": "stream",
     "text": [
      "engine is powerful\n",
      "100km\n"
     ]
    }
   ],
   "source": [
    "class car:\n",
    "    def speed(self):\n",
    "        print(\"100km\")\n",
    "class audi(car):\n",
    "    def engine(self):\n",
    "        print(\"engine is powerful\")\n",
    "c=audi()\n",
    "c.engine()\n",
    "c.speed()\n",
    "\n",
    "        \n"
   ]
  },
  {
   "cell_type": "code",
   "execution_count": 14,
   "id": "f7908f08-de37-44cb-a70a-eb97f9d0962e",
   "metadata": {},
   "outputs": [
    {
     "name": "stdout",
     "output_type": "stream",
     "text": [
      "bark\n",
      "meow\n"
     ]
    }
   ],
   "source": [
    "#overriding\n",
    "class animal:\n",
    "    def sound(self):\n",
    "        print(\"some generic sound\")\n",
    "\n",
    "class dog(animal):\n",
    "  def sound(self):\n",
    "    print(\"bark\")\n",
    "class cat(animal):\n",
    "  def sound(self):\n",
    "    print(\"meow\")\n",
    "dog=dog()\n",
    "cat=cat()\n",
    "dog.sound()\n",
    "cat.sound()"
   ]
  },
  {
   "cell_type": "code",
   "execution_count": 14,
   "id": "12622fce-d7e3-4969-9c74-b0f86d6c2320",
   "metadata": {},
   "outputs": [
    {
     "ename": "IndentationError",
     "evalue": "unindent does not match any outer indentation level (<string>, line 8)",
     "output_type": "error",
     "traceback": [
      "\u001b[1;36m  File \u001b[1;32m<string>:8\u001b[1;36m\u001b[0m\n\u001b[1;33m    class advancedcalulator(calulator):\u001b[0m\n\u001b[1;37m                                       ^\u001b[0m\n\u001b[1;31mIndentationError\u001b[0m\u001b[1;31m:\u001b[0m unindent does not match any outer indentation level\n"
     ]
    }
   ],
   "source": [
    "class Calulator:\n",
    "  def add(num1,num2):\n",
    "        self.num1=num1;\n",
    "        self.num2=num2;\n",
    "        return self.num1+self.num2\n",
    "  def sub (self,num1,num2):\n",
    "     return num1-num2;\n",
    "    class advancedcalulator(calulator):\n",
    "      def mul(self,num1,num2):\n",
    "       print(\"multiplication:\",num1*num2)\n",
    "      def div(self,num1,num2):\n",
    "       return num1//num2;\n",
    "x=advancedcalculator()\n",
    "num1=int(input())\n",
    "num2=int(input())\n",
    "print(\"addition :%d\"%(x.add(num1,num2)))\n",
    "print(\"subtraction:\",xsub(num1,num2))\n",
    "x.mul(num1,num2)\n",
    "print(\"floor division:%d\"%(x.div(num1,num2)))\n",
    "                    \n",
    "    "
   ]
  },
  {
   "cell_type": "code",
   "execution_count": null,
   "id": "baf24f7f-b761-4228-9e5f-7865306af8d4",
   "metadata": {},
   "outputs": [],
   "source": []
  }
 ],
 "metadata": {
  "kernelspec": {
   "display_name": "Python 3 (ipykernel)",
   "language": "python",
   "name": "python3"
  },
  "language_info": {
   "codemirror_mode": {
    "name": "ipython",
    "version": 3
   },
   "file_extension": ".py",
   "mimetype": "text/x-python",
   "name": "python",
   "nbconvert_exporter": "python",
   "pygments_lexer": "ipython3",
   "version": "3.12.4"
  }
 },
 "nbformat": 4,
 "nbformat_minor": 5
}
